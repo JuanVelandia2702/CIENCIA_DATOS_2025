{
  "nbformat": 4,
  "nbformat_minor": 0,
  "metadata": {
    "colab": {
      "provenance": [],
      "authorship_tag": "ABX9TyMa8y5Mu+jPWQHgVDKiLS4a",
      "include_colab_link": true
    },
    "kernelspec": {
      "name": "python3",
      "display_name": "Python 3"
    },
    "language_info": {
      "name": "python"
    }
  },
  "cells": [
    {
      "cell_type": "markdown",
      "metadata": {
        "id": "view-in-github",
        "colab_type": "text"
      },
      "source": [
        "<a href=\"https://colab.research.google.com/github/JuanVelandia2702/CIENCIA_DATOS_2025/blob/main/clase2.ipynb\" target=\"_parent\"><img src=\"https://colab.research.google.com/assets/colab-badge.svg\" alt=\"Open In Colab\"/></a>"
      ]
    },
    {
      "cell_type": "code",
      "execution_count": null,
      "metadata": {
        "colab": {
          "base_uri": "https://localhost:8080/"
        },
        "id": "fMY3Zj_p0G_n",
        "outputId": "48754aaf-43b5-4d28-e436-c958718c8361"
      },
      "outputs": [
        {
          "output_type": "stream",
          "name": "stdout",
          "text": [
            "l\n",
            "...\n"
          ]
        }
      ],
      "source": [
        "#operador ternario\n",
        "#otra forma condicional\n",
        "\n",
        "var=input()\n",
        "\n",
        "print(\"hola\") if var==\"hola\" else print(\"...\")"
      ]
    },
    {
      "cell_type": "code",
      "source": [
        "num=int(input(\"ingrese el primer numero\"))\n",
        "num2=int(input(\"ingrese el segundo numero\"))\n",
        "\n",
        "print(f\"{num} es mayor que {num2}\") if num>num2 else print(f\"{num} es menor que {num2}\")"
      ],
      "metadata": {
        "colab": {
          "base_uri": "https://localhost:8080/"
        },
        "id": "LDliNGia1qfA",
        "outputId": "3b9e07ff-8aed-406b-c116-a5f9f0a06106"
      },
      "execution_count": null,
      "outputs": [
        {
          "output_type": "stream",
          "name": "stdout",
          "text": [
            "ingrese el primer numero10\n",
            "ingrese el segundo numero20\n",
            "10es menor que20\n"
          ]
        }
      ]
    },
    {
      "cell_type": "code",
      "source": [
        "#funcion sin parametro y sin retorno(no se requiere una variable global, ni parametros)\n",
        "def saludo():\n",
        "    print(\"hola\")\n",
        "\n",
        "saludo()"
      ],
      "metadata": {
        "id": "sU3--AR_5Kkp"
      },
      "execution_count": null,
      "outputs": []
    },
    {
      "cell_type": "code",
      "source": [
        "#sin parametro con retorno(se requiere una variable global sin parametros)\n",
        "def numero():\n",
        "    return 4 + 5#devuelve variable local a global\n",
        "\n",
        "c=numero()\n",
        "c"
      ],
      "metadata": {
        "colab": {
          "base_uri": "https://localhost:8080/"
        },
        "id": "uejP3Mmy5ajh",
        "outputId": "9e9694ef-76b3-4a02-9efb-49fd133bb419"
      },
      "execution_count": null,
      "outputs": [
        {
          "output_type": "execute_result",
          "data": {
            "text/plain": [
              "9"
            ]
          },
          "metadata": {},
          "execution_count": 8
        }
      ]
    },
    {
      "cell_type": "code",
      "source": [
        "#funcion con parametro y sin retorno\n",
        "def cuadrado(numero):\n",
        "    print(numero**2)\n",
        "\n",
        "cuadrado(5)"
      ],
      "metadata": {
        "colab": {
          "base_uri": "https://localhost:8080/"
        },
        "id": "C-yjD_1p6y8k",
        "outputId": "1bc66815-14f5-4a96-c51f-98089a4d7091"
      },
      "execution_count": null,
      "outputs": [
        {
          "output_type": "stream",
          "name": "stdout",
          "text": [
            "25\n"
          ]
        }
      ]
    },
    {
      "cell_type": "code",
      "source": [
        "#funcion con parametro y con retorno\n",
        "def cubo(numero3):\n",
        "    return numero3**3\n",
        "\n",
        "c=cubo(5)\n",
        "c"
      ],
      "metadata": {
        "colab": {
          "base_uri": "https://localhost:8080/"
        },
        "id": "GY4SGPXU7QqM",
        "outputId": "f1ef55aa-7ab6-4370-f611-083d6c037218"
      },
      "execution_count": null,
      "outputs": [
        {
          "output_type": "execute_result",
          "data": {
            "text/plain": [
              "25"
            ]
          },
          "metadata": {},
          "execution_count": 11
        }
      ]
    },
    {
      "cell_type": "code",
      "source": [
        "def comp(num,num2):\n",
        "    print(f\"{num} es mayor que {num2}\") if num>num2 else print(f\"{num} es menor que {num2}\")"
      ],
      "metadata": {
        "id": "9EvbJB4H7e9r"
      },
      "execution_count": null,
      "outputs": []
    },
    {
      "cell_type": "code",
      "source": [
        "comp(3,9)"
      ],
      "metadata": {
        "colab": {
          "base_uri": "https://localhost:8080/"
        },
        "id": "RnCoTkf87x38",
        "outputId": "6d96104e-4051-41fc-f091-c6647672e75e"
      },
      "execution_count": null,
      "outputs": [
        {
          "output_type": "stream",
          "name": "stdout",
          "text": [
            "3 es menor que 9\n"
          ]
        }
      ]
    },
    {
      "cell_type": "code",
      "source": [
        "#funciones anonimas\n",
        "lambda num,num2:print(f\"{num} es mayor que {num2}\") if num>num2 else print(f\"{num} es menor que {num2}\")"
      ],
      "metadata": {
        "id": "CWf0SGIdFjC1"
      },
      "execution_count": null,
      "outputs": []
    }
  ]
}