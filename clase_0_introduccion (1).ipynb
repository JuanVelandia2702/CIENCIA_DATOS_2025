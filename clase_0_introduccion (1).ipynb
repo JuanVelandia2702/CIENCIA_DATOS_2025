{
  "nbformat": 4,
  "nbformat_minor": 0,
  "metadata": {
    "colab": {
      "provenance": []
    },
    "kernelspec": {
      "name": "python3",
      "display_name": "Python 3"
    },
    "language_info": {
      "name": "python"
    }
  },
  "cells": [
    {
      "cell_type": "markdown",
      "source": [
        "#titulo nivel 1\n",
        "##titulo nivel 2\n",
        "###titulo nivel 3\n"
      ],
      "metadata": {
        "id": "8L1M9rQcuSlB"
      }
    },
    {
      "cell_type": "markdown",
      "source": [
        "Se realizara una prueba de aotitud de programacion para esto se tendra en cuenta lo siguiente:\n",
        "\n",
        "\n",
        "\n",
        "*  La prueba durara dos horas\n",
        "*  El estudiante debera intentar desarrollar cada punto\n",
        "*  En caso de no recordar que hacer se debera escribir con algoritmia como desarrollar el ejercicio\n",
        "\n",
        "\n",
        "```\n",
        "if\n",
        "```\n",
        "\n",
        "\n",
        "\n"
      ],
      "metadata": {
        "id": "YR6ENHbqu7Yw"
      }
    },
    {
      "cell_type": "code",
      "source": [],
      "metadata": {
        "id": "P-RrfnZ2vCHo"
      },
      "execution_count": null,
      "outputs": []
    }
  ]
}