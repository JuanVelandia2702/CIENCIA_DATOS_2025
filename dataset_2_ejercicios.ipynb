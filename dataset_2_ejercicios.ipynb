{
  "nbformat": 4,
  "nbformat_minor": 0,
  "metadata": {
    "colab": {
      "provenance": [],
      "authorship_tag": "ABX9TyM7+b1vVlToDJUaxEs99Qt7",
      "include_colab_link": true
    },
    "kernelspec": {
      "name": "python3",
      "display_name": "Python 3"
    },
    "language_info": {
      "name": "python"
    }
  },
  "cells": [
    {
      "cell_type": "markdown",
      "metadata": {
        "id": "view-in-github",
        "colab_type": "text"
      },
      "source": [
        "<a href=\"https://colab.research.google.com/github/JuanVelandia2702/CIENCIA_DATOS_2025/blob/main/dataset_2_ejercicios.ipynb\" target=\"_parent\"><img src=\"https://colab.research.google.com/assets/colab-badge.svg\" alt=\"Open In Colab\"/></a>"
      ]
    },
    {
      "cell_type": "code",
      "execution_count": 1,
      "metadata": {
        "id": "fLfBavStcgU0"
      },
      "outputs": [],
      "source": [
        "import pandas as pd\n",
        "import numpy as np\n",
        "from scipy.stats import trim_mean\n",
        "from statsmodels import robust\n",
        "import matplotlib.pyplot as plt\n",
        "import seaborn as sns"
      ]
    },
    {
      "cell_type": "code",
      "source": [
        "portfolio = pd.read_csv('/content/MOCK_DATA (2).csv')"
      ],
      "metadata": {
        "id": "FlcEEnIHdGDv"
      },
      "execution_count": 8,
      "outputs": []
    },
    {
      "cell_type": "code",
      "source": [
        "print(portfolio.info())\n",
        "print('--------------head-----------')\n",
        "print(portfolio.head())\n",
        "print('--------------description-----------')\n",
        "print(portfolio.describe())\n"
      ],
      "metadata": {
        "colab": {
          "base_uri": "https://localhost:8080/"
        },
        "id": "uaHjDfLpet76",
        "outputId": "50afe7e1-f3e1-4b29-de22-7f2cc05d3d04"
      },
      "execution_count": 10,
      "outputs": [
        {
          "output_type": "stream",
          "name": "stdout",
          "text": [
            "<class 'pandas.core.frame.DataFrame'>\n",
            "RangeIndex: 1000 entries, 0 to 999\n",
            "Data columns (total 10 columns):\n",
            " #   Column               Non-Null Count  Dtype  \n",
            "---  ------               --------------  -----  \n",
            " 0   portfolio_id         1000 non-null   int64  \n",
            " 1   investment_name      1000 non-null   object \n",
            " 2   purchase_price       1000 non-null   float64\n",
            " 3   sale_price           1000 non-null   float64\n",
            " 4   profit               1000 non-null   float64\n",
            " 5   investment_type      1000 non-null   object \n",
            " 6   investment_date      1000 non-null   object \n",
            " 7   investment_duration  1000 non-null   int64  \n",
            " 8   risk_level           1000 non-null   object \n",
            " 9   investment_sector    1000 non-null   object \n",
            "dtypes: float64(3), int64(2), object(5)\n",
            "memory usage: 78.3+ KB\n",
            "None\n",
            "--------------head-----------\n",
            "   portfolio_id investment_name  purchase_price  sale_price     profit  \\\n",
            "0             1              Dr       440060.34     2427.57 -437632.77   \n",
            "1             2             Rev       324276.57   496112.45  171835.88   \n",
            "2             3              Mr       527782.12   904167.86  376385.74   \n",
            "3             4             Mrs       652605.00   249840.06 -402764.94   \n",
            "4             5             Rev       975346.41   665086.37 -310260.04   \n",
            "\n",
            "  investment_type investment_date  investment_duration risk_level  \\\n",
            "0     Real Estate       6/23/2005                   13        Low   \n",
            "1     Real Estate       9/24/2020                   18     Medium   \n",
            "2          Stocks        6/3/2016                    2       High   \n",
            "3           Bonds       6/22/2011                   42        Low   \n",
            "4           Bonds      10/21/2004                   31     Medium   \n",
            "\n",
            "  investment_sector  \n",
            "0           Finance  \n",
            "1        Technology  \n",
            "2        Technology  \n",
            "3           Finance  \n",
            "4        Healthcare  \n",
            "--------------description-----------\n",
            "       portfolio_id  purchase_price     sale_price         profit  \\\n",
            "count   1000.000000     1000.000000    1000.000000    1000.000000   \n",
            "mean     500.500000   504328.311080  506427.099900    2098.788820   \n",
            "std      288.819436   282726.346689  291367.618287  408547.269664   \n",
            "min        1.000000      425.960000    2427.570000 -972551.730000   \n",
            "25%      250.750000   262301.857500  255695.855000 -292811.692500   \n",
            "50%      500.500000   511282.175000  514521.220000   11957.030000   \n",
            "75%      750.250000   746399.205000  765668.055000  292172.962500   \n",
            "max     1000.000000   997304.140000  999318.280000  928403.860000   \n",
            "\n",
            "       investment_duration  \n",
            "count          1000.000000  \n",
            "mean             24.791000  \n",
            "std              14.567963  \n",
            "min               0.000000  \n",
            "25%              13.000000  \n",
            "50%              24.000000  \n",
            "75%              38.000000  \n",
            "max              50.000000  \n"
          ]
        }
      ]
    },
    {
      "cell_type": "code",
      "source": [
        "print(portfolio.profit.mean)\n",
        "print(portfolio.profit.median)\n",
        "print(trim_mean(portfolio.profit, 0.1))\n"
      ],
      "metadata": {
        "colab": {
          "base_uri": "https://localhost:8080/"
        },
        "id": "Rg-uwFC1gZ0-",
        "outputId": "c2747d50-25f5-42a1-8ec2-623e82187705"
      },
      "execution_count": 14,
      "outputs": [
        {
          "output_type": "stream",
          "name": "stdout",
          "text": [
            "<bound method Series.mean of 0     -437632.77\n",
            "1      171835.88\n",
            "2      376385.74\n",
            "3     -402764.94\n",
            "4     -310260.04\n",
            "         ...    \n",
            "995    785694.93\n",
            "996   -754957.99\n",
            "997    492673.12\n",
            "998   -243956.81\n",
            "999    757447.12\n",
            "Name: profit, Length: 1000, dtype: float64>\n",
            "<bound method Series.median of 0     -437632.77\n",
            "1      171835.88\n",
            "2      376385.74\n",
            "3     -402764.94\n",
            "4     -310260.04\n",
            "         ...    \n",
            "995    785694.93\n",
            "996   -754957.99\n",
            "997    492673.12\n",
            "998   -243956.81\n",
            "999    757447.12\n",
            "Name: profit, Length: 1000, dtype: float64>\n",
            "4184.446124999989\n"
          ]
        }
      ]
    },
    {
      "cell_type": "code",
      "source": [
        "portfolio.profit.plot.hist()\n",
        "plt.show()"
      ],
      "metadata": {
        "colab": {
          "base_uri": "https://localhost:8080/",
          "height": 448
        },
        "id": "H56mNjFTiLjL",
        "outputId": "e5b0fe23-67a9-46e3-8c3b-91ad1e463b1d"
      },
      "execution_count": 19,
      "outputs": [
        {
          "output_type": "display_data",
          "data": {
            "text/plain": [
              "<Figure size 640x480 with 1 Axes>"
            ],
            "image/png": "[encoded data removed]"
          },
          "metadata": {}
        }
      ]
    },
    {
      "cell_type": "code",
      "source": [
        "#quiero encontrar la correlacion entre profit y investment sector\n",
        "#la columna investment sector almacena cualquier tipo de string por lo cual se modifica a categoria\n",
        "portfolio['investment sector'] = portfolio['investment_sector'].astype('category')"
      ],
      "metadata": {
        "id": "j_Xs5sVii37-"
      },
      "execution_count": 23,
      "outputs": []
    },
    {
      "cell_type": "code",
      "source": [
        "profit_by_sector = portfolio.groupby('investment_sector')['profit'].agg(['sum', 'mean', 'median']).sort_values(by='mean', ascending=False)\n",
        "\n",
        "print(\"\\n--- Profit Statistics by Sector ---\")\n",
        "print(profit_by_sector)\n"
      ],
      "metadata": {
        "colab": {
          "base_uri": "https://localhost:8080/"
        },
        "id": "TZ6-2p54jqaM",
        "outputId": "0cf318d6-565c-4185-ce52-4942b3a366a4"
      },
      "execution_count": 27,
      "outputs": [
        {
          "output_type": "stream",
          "name": "stdout",
          "text": [
            "\n",
            "--- Profit Statistics by Sector ---\n",
            "                           sum          mean     median\n",
            "investment_sector                                      \n",
            "Healthcare          7423191.37  22982.016625  38052.390\n",
            "Finance             4888192.54  14548.192083  27014.195\n",
            "Technology        -10212595.09 -29948.959208 -38481.400\n"
          ]
        }
      ]
    },
    {
      "cell_type": "code",
      "source": [
        "profit_by_sector.plot.bar()\n",
        "plt.show()"
      ],
      "metadata": {
        "colab": {
          "base_uri": "https://localhost:8080/",
          "height": 528
        },
        "id": "bV7Ig8H7kmWw",
        "outputId": "73372a3b-ff37-4f30-d203-839ba9466af4"
      },
      "execution_count": 28,
      "outputs": [
        {
          "output_type": "display_data",
          "data": {
            "text/plain": [
              "<Figure size 640x480 with 1 Axes>"
            ],
            "image/png": "[encoded data removed]"
          },
          "metadata": {}
        }
      ]
    }
  ]
}