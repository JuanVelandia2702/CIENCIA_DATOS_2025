{
  "nbformat": 4,
  "nbformat_minor": 0,
  "metadata": {
    "colab": {
      "provenance": [],
      "authorship_tag": "ABX9TyPu5pUEPuQQbDYvzXdsJdzu",
      "include_colab_link": true
    },
    "kernelspec": {
      "name": "python3",
      "display_name": "Python 3"
    },
    "language_info": {
      "name": "python"
    }
  },
  "cells": [
    {
      "cell_type": "markdown",
      "metadata": {
        "id": "view-in-github",
        "colab_type": "text"
      },
      "source": [
        "<a href=\"https://colab.research.google.com/github/JuanVelandia2702/CIENCIA_DATOS_2025/blob/main/prueba_diagnostica.ipynb\" target=\"_parent\"><img src=\"https://colab.research.google.com/assets/colab-badge.svg\" alt=\"Open In Colab\"/></a>"
      ]
    },
    {
      "cell_type": "markdown",
      "source": [
        "#Parte 1: Estructuras de Decisión"
      ],
      "metadata": {
        "id": "T0uwYQ2Xm08a"
      }
    },
    {
      "cell_type": "code",
      "execution_count": 3,
      "metadata": {
        "colab": {
          "base_uri": "https://localhost:8080/"
        },
        "id": "aFw8WAbykW4K",
        "outputId": "04a970a9-4b91-4e02-de43-45ebe37587f5"
      },
      "outputs": [
        {
          "output_type": "stream",
          "name": "stdout",
          "text": [
            "Ingrese un numero: -1\n",
            "negativo\n"
          ]
        }
      ],
      "source": [
        "#1\tEscribe un programa que reciba un número e indique si es positivo.\n",
        "numero=int(input(\"Ingrese un numero: \"))\n",
        "if numero > 0:\n",
        "    print(\"positivo\")\n",
        "else:\n",
        "    print(\"negativo\")"
      ]
    },
    {
      "cell_type": "code",
      "source": [
        "#2\tEscribe un programa que reciba una edad y determine si la persona es mayor de edad.\n",
        "edad = int(input(\"Ingrese su edad: \"))\n",
        "if edad >= 18:\n",
        "    print(\"mayor de edad\")\n",
        "else:\n",
        "    print(\"menor de edad\")"
      ],
      "metadata": {
        "colab": {
          "base_uri": "https://localhost:8080/"
        },
        "id": "-8Jai_LanFI5",
        "outputId": "6522d7ff-c3ab-4e57-deb4-b6494d9bc1a6"
      },
      "execution_count": 6,
      "outputs": [
        {
          "output_type": "stream",
          "name": "stdout",
          "text": [
            "Ingrese su edad: 18\n",
            "mayor de edad\n"
          ]
        }
      ]
    },
    {
      "cell_type": "code",
      "source": [
        "#3\tEscribe un programa que reciba dos números e imprima el mayor.\n",
        "numero1 = int(input(\"Ingrese el primer numero: \"))\n",
        "numero2 = int(input(\"Ingrese el segundo numero: \"))\n",
        "if numero1 > numero2:\n",
        "    print(f\"El numero mayor es {numero1}\")\n",
        "else:\n",
        "    print(f\"El numero mayor es {numero2}\")"
      ],
      "metadata": {
        "colab": {
          "base_uri": "https://localhost:8080/"
        },
        "id": "YXguaLi2nM8B",
        "outputId": "c1928306-eca7-4e98-978c-7ed0469217e4"
      },
      "execution_count": 24,
      "outputs": [
        {
          "output_type": "stream",
          "name": "stdout",
          "text": [
            "Ingrese el primer numero: 4\n",
            "Ingrese el segundo numero: 7\n",
            "El numero mayor es 7\n"
          ]
        }
      ]
    },
    {
      "cell_type": "code",
      "source": [
        "#4\tEscribe un programa que reciba una calificación (0-100) e indique si es Aprobado (>=60) o Reprobado.\n",
        "calificacion = int(input(\"Ingrese su calificacion: \"))\n",
        "def calificar(calificacion):\n",
        "    if calificacion >= 60:\n",
        "        return \"Aprobado\"\n",
        "    else:\n",
        "        return \"Reprobado\"\n",
        "if calificacion < 0 or calificacion > 100:\n",
        "    print(\"La calificacion debe estar entre 0 y 100\")\n",
        "else:\n",
        "    print(calificar(calificacion))\n",
        "\n",
        ""
      ],
      "metadata": {
        "colab": {
          "base_uri": "https://localhost:8080/"
        },
        "id": "bi63dOZlnuhI",
        "outputId": "e4e84576-df79-441f-8284-314f7da78d18"
      },
      "execution_count": 18,
      "outputs": [
        {
          "output_type": "stream",
          "name": "stdout",
          "text": [
            "Ingrese su calificacion: 60\n",
            "Aprobado\n"
          ]
        }
      ]
    },
    {
      "cell_type": "code",
      "source": [
        "#5\tEscribe un programa que determine si un número es par o impar.\n",
        "numero = int(input(\"Ingrese un numero: \"))\n",
        "if numero % 2 == 0:\n",
        "    print(\"par\")\n",
        "else:\n",
        "    print(\"impar\")"
      ],
      "metadata": {
        "colab": {
          "base_uri": "https://localhost:8080/"
        },
        "id": "JN99dGAJo7zH",
        "outputId": "29b3f8a7-877f-4f6b-fd59-d559bbb7a738"
      },
      "execution_count": 19,
      "outputs": [
        {
          "output_type": "stream",
          "name": "stdout",
          "text": [
            "Ingrese un numero: 7\n",
            "impar\n"
          ]
        }
      ]
    },
    {
      "cell_type": "code",
      "source": [
        "#6\tEscribe un programa que reciba tres números e imprima el mayor de los tres\n",
        "numero1 = int(input(\"Ingrese el primer numero: \"))\n",
        "numero2 = int(input(\"Ingrese el segundo numero: \"))\n",
        "numero3 = int(input(\"Ingrese el tercer numero: \"))\n",
        "if numero1 > numero2 and numero1 > numero3:\n",
        "    print(f\"El numero mayor es {numero1}\")\n",
        "elif numero2 > numero1 and numero2 > numero3:\n",
        "    print(f\"El numero mayor es {numero2}\")\n",
        "else:\n",
        "    print(f\"El numero mayor es {numero3}\")"
      ],
      "metadata": {
        "colab": {
          "base_uri": "https://localhost:8080/"
        },
        "id": "Qsyc9SsGpPcf",
        "outputId": "7e6ba5bc-8e1d-4b00-c06d-495e46b8cd84"
      },
      "execution_count": 21,
      "outputs": [
        {
          "output_type": "stream",
          "name": "stdout",
          "text": [
            "Ingrese el primer numero: 4\n",
            "Ingrese el segundo numero: 2\n",
            "Ingrese el tercer numero: 9\n",
            "El numero mayor es 9\n"
          ]
        }
      ]
    },
    {
      "cell_type": "code",
      "source": [
        "#7\tEscribe un programa que reciba un año e indique si es bisiesto.\n",
        "año=int(input(\"Ingrese un año: \"))\n",
        "if año % 4 == 0:\n",
        "    print(\"bisiesto\")\n",
        "else:\n",
        "    print(\"no bisiesto\")"
      ],
      "metadata": {
        "colab": {
          "base_uri": "https://localhost:8080/"
        },
        "id": "wWZtOUzypk6g",
        "outputId": "8ebf3e0e-5b42-42b5-86cb-b709bc00f634"
      },
      "execution_count": 36,
      "outputs": [
        {
          "output_type": "stream",
          "name": "stdout",
          "text": [
            "Ingrese un año: 2024\n",
            "bisiesto\n"
          ]
        }
      ]
    },
    {
      "cell_type": "code",
      "source": [
        "#8\tEscribe un programa que reciba una contraseña e indique si cumple con las siguientes reglas: más de 8 caracteres, contiene al menos un número y una letra mayúscula.\n",
        "contraseña = input(\"Ingrese una contraseña: \")\n",
        "if len(contraseña) < 8:\n",
        "    print(\"La contraseña debe tener al menos 8 caracteres\")\n",
        "#no se identificar letras y numeros dentro de la contraseña"
      ],
      "metadata": {
        "id": "48uQBYPOqilW"
      },
      "execution_count": null,
      "outputs": []
    },
    {
      "cell_type": "code",
      "source": [
        "#9\tEscribe un programa que lea un número e imprima “Fizz” si es divisible por 3, “Buzz” si es divisible por 5 y “FizzBuzz” si es divisible por ambos.\n",
        "numero = int(input(\"Ingrese un numero: \"))\n",
        "if numero % 3 == 0 and numero % 5 == 0:\n",
        "    print(\"FizzBuzz\")\n",
        "elif numero % 3 == 0:\n",
        "    print(\"Fizz\")\n",
        "elif numero % 5 == 0:\n",
        "    print(\"Buzz\")"
      ],
      "metadata": {
        "colab": {
          "base_uri": "https://localhost:8080/"
        },
        "id": "AnzdUzsxq6MV",
        "outputId": "494a328a-d012-46ac-e57c-c989354bdfe4"
      },
      "execution_count": 28,
      "outputs": [
        {
          "output_type": "stream",
          "name": "stdout",
          "text": [
            "Ingrese un numero: 15\n",
            "FizzBuzz\n"
          ]
        }
      ]
    },
    {
      "cell_type": "code",
      "source": [
        "#10\tEscribe un programa que simule un cajero automático: recibe el monto a retirar e imprime si la operación es posible en base al saldo disponible.\n",
        "saldo = 100000\n",
        "monto=int(input(\"Ingrese el monto a retirar: \"))\n",
        "if monto > saldo:\n",
        "    print(\"Saldo insuficiente\")\n",
        "else:\n",
        "    print(\"Retiro exitoso\")"
      ],
      "metadata": {
        "colab": {
          "base_uri": "https://localhost:8080/"
        },
        "id": "GMQZvTBorKT2",
        "outputId": "cff02d45-1b48-4457-f2d5-ac95c02bca70"
      },
      "execution_count": 30,
      "outputs": [
        {
          "output_type": "stream",
          "name": "stdout",
          "text": [
            "Ingrese el monto a retirar: 200000\n",
            "Saldo insuficiente\n"
          ]
        }
      ]
    },
    {
      "cell_type": "markdown",
      "source": [
        "#Parte 2: Estructuras de Repetición"
      ],
      "metadata": {
        "id": "lBG4TI6yrnr9"
      }
    },
    {
      "cell_type": "code",
      "source": [
        "#1\tEscribe un programa que imprima los números del 1 al 10.\n",
        "for i in range(1,11):\n",
        "    print(i)"
      ],
      "metadata": {
        "colab": {
          "base_uri": "https://localhost:8080/"
        },
        "id": "IdD8SW8irig9",
        "outputId": "555e9dc7-08c2-4913-972c-faa94ed7ec47"
      },
      "execution_count": 37,
      "outputs": [
        {
          "output_type": "stream",
          "name": "stdout",
          "text": [
            "1\n",
            "2\n",
            "3\n",
            "4\n",
            "5\n",
            "6\n",
            "7\n",
            "8\n",
            "9\n",
            "10\n"
          ]
        }
      ]
    },
    {
      "cell_type": "code",
      "source": [
        "#2\tEscribe un programa que sume los números del 1 al 100\n",
        "suma=0\n",
        "for i in range(1,101):\n",
        "    suma+=i\n",
        "print(suma)"
      ],
      "metadata": {
        "colab": {
          "base_uri": "https://localhost:8080/"
        },
        "id": "OiOkXHoHrnSk",
        "outputId": "e4f629e4-9280-4f67-984b-7a3dfa9f22f7"
      },
      "execution_count": 49,
      "outputs": [
        {
          "output_type": "stream",
          "name": "stdout",
          "text": [
            "5050\n"
          ]
        }
      ]
    },
    {
      "cell_type": "markdown",
      "source": [],
      "metadata": {
        "id": "_A6xyFBvvXT5"
      }
    },
    {
      "cell_type": "code",
      "source": [
        "#3\tEscribe un programa que imprima los múltiplos de 3 entre 1 y 30\n",
        "for i in range(1,31):\n",
        "    if i % 3 == 0:\n",
        "        print(i)"
      ],
      "metadata": {
        "colab": {
          "base_uri": "https://localhost:8080/"
        },
        "id": "A4Bj4cyUtvxj",
        "outputId": "dca72335-0181-444b-e457-2d55fa6f592a"
      },
      "execution_count": 47,
      "outputs": [
        {
          "output_type": "stream",
          "name": "stdout",
          "text": [
            "3\n",
            "6\n",
            "9\n",
            "12\n",
            "15\n",
            "18\n",
            "21\n",
            "24\n",
            "27\n",
            "30\n"
          ]
        }
      ]
    },
    {
      "cell_type": "code",
      "source": [
        "#4\tEscribe un programa que lea un número e imprima su tabla de multiplicar del 1 al 10.\n",
        "num=int(input(\"Ingrese un numero: \"))\n",
        "for i in range(1,11):\n",
        "    print(f\"{num} x {i} = {num*i}\")"
      ],
      "metadata": {
        "colab": {
          "base_uri": "https://localhost:8080/"
        },
        "id": "uWDYfCoNwQWR",
        "outputId": "4db78847-4e54-4f6e-8776-6f4f4bbfd758"
      },
      "execution_count": 48,
      "outputs": [
        {
          "output_type": "stream",
          "name": "stdout",
          "text": [
            "Ingrese un numero: 10\n",
            "10 x 1 = 10\n",
            "10 x 2 = 20\n",
            "10 x 3 = 30\n",
            "10 x 4 = 40\n",
            "10 x 5 = 50\n",
            "10 x 6 = 60\n",
            "10 x 7 = 70\n",
            "10 x 8 = 80\n",
            "10 x 9 = 90\n",
            "10 x 10 = 100\n"
          ]
        }
      ]
    },
    {
      "cell_type": "code",
      "source": [
        "#5\tEscribe un programa que pida 5 números al usuario y calcule el promedio.\n",
        "suma=0\n",
        "for i in range(5):\n",
        "    num=int(input(\"Ingrese un numero: \"))\n",
        "    suma+=num\n",
        "print(f\"El promedio es {suma/5}\")"
      ],
      "metadata": {
        "colab": {
          "base_uri": "https://localhost:8080/"
        },
        "id": "fF_J6eIPwdNg",
        "outputId": "b0980ed8-32dd-49be-f922-9c5a20501ffe"
      },
      "execution_count": 50,
      "outputs": [
        {
          "output_type": "stream",
          "name": "stdout",
          "text": [
            "Ingrese un numero: 1\n",
            "Ingrese un numero: 3\n",
            "Ingrese un numero: 4\n",
            "Ingrese un numero: 6\n",
            "Ingrese un numero: 8\n",
            "El promedio es 4.4\n"
          ]
        }
      ]
    },
    {
      "cell_type": "code",
      "source": [
        "l=[]\n",
        "num=int(input(\"Ingrese un numero: \"))\n",
        "for i in range(1,num+1):\n",
        "  if i % 2 == 0:\n",
        "    l.append(i)\n",
        "print(len(l))\n",
        ""
      ],
      "metadata": {
        "colab": {
          "base_uri": "https://localhost:8080/"
        },
        "id": "y3di9I_pyjnH",
        "outputId": "2354de67-6054-457a-bbff-c2ec14447e77"
      },
      "execution_count": 54,
      "outputs": [
        {
          "output_type": "stream",
          "name": "stdout",
          "text": [
            "Ingrese un numero: 10\n",
            "5\n"
          ]
        }
      ]
    },
    {
      "cell_type": "code",
      "source": [
        "#7\tEscribe un programa que solicite contraseñas hasta que el usuario ingrese una válida, formada por su apellido y la longitud de su apellido (“Espinosa8”, por ejemplo\n",
        "apellido = input(\"Ingrese su apellido \")\n",
        "passwordValidation = apellido + str(len(apellido))\n",
        "\n",
        "while True:\n",
        "  password = input(\"Ingrese su contraseña \")\n",
        "  if password == passwordValidation:\n",
        "    print(\"Contraseña válida\")\n",
        "    break\n",
        "  else:\n",
        "    print(\"Contraseña inválida\")"
      ],
      "metadata": {
        "colab": {
          "base_uri": "https://localhost:8080/"
        },
        "id": "bvzpz8uMzcL2",
        "outputId": "f4b7580d-7655-475f-84f8-91c5a678e43a"
      },
      "execution_count": 56,
      "outputs": [
        {
          "name": "stdout",
          "output_type": "stream",
          "text": [
            "Ingrese su apellido: 4\n"
          ]
        }
      ]
    },
    {
      "cell_type": "code",
      "source": [
        "#8\tEscribe un programa que imprima los primeros n números de la serie de Fibonacci.\n",
        "n=int(input(\"Ingrese la cantidad de numeros de la serie de Fibonacci: \"))\n",
        "def fibonacci(n):\n",
        "    if n <= 1:\n",
        "        return n\n",
        "    else:\n",
        "        return fibonacci(n - 1) + fibonacci(n - 2)\n",
        "for i in range(n+1):\n",
        "    print(fibonacci)"
      ],
      "metadata": {
        "colab": {
          "base_uri": "https://localhost:8080/"
        },
        "id": "aEywaGbt1_D8",
        "outputId": "8c139812-0ccb-4f91-a82b-df8abaee39f9"
      },
      "execution_count": 57,
      "outputs": [
        {
          "output_type": "stream",
          "name": "stdout",
          "text": [
            "Ingrese la cantidad de numeros de la serie de Fibonacci: 1\n",
            "<function fibonacci at 0x79a80e681f80>\n",
            "<function fibonacci at 0x79a80e681f80>\n"
          ]
        }
      ]
    },
    {
      "cell_type": "code",
      "source": [
        "#9\tEscribe un programa que determine si un número ingresado es primo.\n"
      ],
      "metadata": {
        "colab": {
          "base_uri": "https://localhost:8080/"
        },
        "id": "2etOiPpW36ZC",
        "outputId": "cc99690b-bb58-405a-b416-33591755c910"
      },
      "execution_count": 62,
      "outputs": [
        {
          "name": "stdout",
          "output_type": "stream",
          "text": [
            "Ingrese un numero: 1\n"
          ]
        }
      ]
    }
  ]
}